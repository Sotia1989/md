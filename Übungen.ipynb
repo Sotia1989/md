{
 "cells": [
  {
   "cell_type": "code",
   "execution_count": 22,
   "id": "6d2d342b",
   "metadata": {},
   "outputs": [
    {
     "name": "stdout",
     "output_type": "stream",
     "text": [
      "Hallo Welt\n",
      "Hallo Welt\n",
      "Hallo Welt\n",
      "Hallo Welt\n",
      "Hallo Welt\n",
      "Hallo Welt\n",
      "Hallo Welt\n",
      "Hallo Welt\n",
      "Hallo Welt\n",
      "Hallo Welt\n"
     ]
    }
   ],
   "source": [
    "for i in range(10):\n",
    "    print(\"Hallo Welt\")"
   ]
  },
  {
   "cell_type": "raw",
   "id": "63470b3b",
   "metadata": {},
   "source": [
    "x = [1-10]\n",
    "\n",
    "print (x)"
   ]
  },
  {
   "cell_type": "code",
   "execution_count": 13,
   "id": "176f38dd",
   "metadata": {},
   "outputs": [
    {
     "name": "stdout",
     "output_type": "stream",
     "text": [
      "0\n",
      "1\n",
      "2\n",
      "3\n",
      "4\n",
      "5\n",
      "6\n",
      "7\n",
      "8\n",
      "9\n"
     ]
    }
   ],
   "source": [
    "for i in range(10):\n",
    "    print(i)\n"
   ]
  },
  {
   "cell_type": "code",
   "execution_count": 20,
   "id": "43606986",
   "metadata": {},
   "outputs": [
    {
     "name": "stdout",
     "output_type": "stream",
     "text": [
      "7\n",
      "14\n",
      "21\n",
      "28\n",
      "35\n",
      "42\n",
      "49\n",
      "56\n",
      "63\n",
      "70\n"
     ]
    }
   ],
   "source": [
    "for i in range(10):\n",
    "    print((i+1)*7)"
   ]
  },
  {
   "cell_type": "code",
   "execution_count": 37,
   "id": "6424962a",
   "metadata": {
    "scrolled": true
   },
   "outputs": [
    {
     "name": "stdout",
     "output_type": "stream",
     "text": [
      "Was soll wiederholt werden? Du bist toll\n",
      "Wie oft? 2\n",
      "Du hast dir den Satz:  Du bist toll 2 x gewünscht!\n",
      "Du bist toll\n",
      "Du bist toll\n"
     ]
    }
   ],
   "source": [
    "text = input(\"Was soll wiederholt werden? \")\n",
    "anzahl = int(input(\"Wie oft? \"))\n",
    "\n",
    "print(\"Du hast dir den Satz: \", text, anzahl, \"x gewünscht!\")\n",
    "\n",
    "for i in range(anzahl):\n",
    "    print(text)\n",
    "\n"
   ]
  },
  {
   "cell_type": "code",
   "execution_count": 53,
   "id": "11d02ff5",
   "metadata": {},
   "outputs": [
    {
     "name": "stdout",
     "output_type": "stream",
     "text": [
      "2\n",
      "4.5\n"
     ]
    }
   ],
   "source": [
    "i = 2\n",
    "while i<=5:\n",
    "    print (i)\n",
    "    i+=2.5\n",
    "    \n",
    "    "
   ]
  },
  {
   "cell_type": "code",
   "execution_count": 60,
   "id": "7c5b3eee",
   "metadata": {},
   "outputs": [
    {
     "name": "stdout",
     "output_type": "stream",
     "text": [
      "Was soll wiederholt werden? sr\n",
      "Wie oft? 4\n",
      "Du hast dir den Satz:  sr 4 x gewünscht!\n",
      "sr\n",
      "sr\n",
      "sr\n",
      "sr\n"
     ]
    }
   ],
   "source": [
    "text = input(\"Was soll wiederholt werden? \")\n",
    "anzahl = int(input(\"Wie oft? \"))\n",
    "\n",
    "print(\"Du hast dir den Satz: \", text, anzahl, \"x gewünscht!\")\n",
    "i=1\n",
    "while i<= anzahl:\n",
    "    print(text)\n",
    "    i+=1\n"
   ]
  },
  {
   "cell_type": "code",
   "execution_count": 63,
   "id": "1a4bb5f6",
   "metadata": {},
   "outputs": [],
   "source": [
    "\n",
    "i=10\n",
    "\n",
    "while i<= 0:\n",
    "    print(i)\n",
    "    i-=1\n",
    "\n"
   ]
  },
  {
   "cell_type": "code",
   "execution_count": 67,
   "id": "b6b21c35",
   "metadata": {},
   "outputs": [],
   "source": [
    "i=10\n",
    "\n",
    "while i<= 0:\n",
    "    print(i)\n",
    "    i-=1"
   ]
  },
  {
   "cell_type": "code",
   "execution_count": 81,
   "id": "d2c96843",
   "metadata": {},
   "outputs": [],
   "source": [
    "i=10\n",
    "\n",
    "while i<=2:\n",
    "    print(i)\n",
    "    i=i-1"
   ]
  },
  {
   "cell_type": "code",
   "execution_count": 112,
   "id": "03885eb5",
   "metadata": {},
   "outputs": [
    {
     "name": "stdout",
     "output_type": "stream",
     "text": [
      "Countdown-Programm\n",
      "\n",
      "10\n",
      "9\n",
      "8\n",
      "7\n",
      "6\n",
      "5\n",
      "4\n",
      "3\n",
      "2\n",
      "1\n",
      "0\n",
      "Vorsicht an der Rampe \n",
      "START\n"
     ]
    }
   ],
   "source": [
    "print(\"Countdown-Programm\")\n",
    "print()\n",
    "\n",
    "J= \"Vorsicht an der Rampe\"\n",
    "\n",
    "i=10\n",
    "\n",
    "while i>=0:\n",
    "    print(i)\n",
    "    i-=1\n",
    "\n",
    "print(J, \"\\nSTART\")\n"
   ]
  },
  {
   "cell_type": "code",
   "execution_count": null,
   "id": "623ae5ad",
   "metadata": {},
   "outputs": [],
   "source": []
  }
 ],
 "metadata": {
  "kernelspec": {
   "display_name": "Python 3 (ipykernel)",
   "language": "python",
   "name": "python3"
  },
  "language_info": {
   "codemirror_mode": {
    "name": "ipython",
    "version": 3
   },
   "file_extension": ".py",
   "mimetype": "text/x-python",
   "name": "python",
   "nbconvert_exporter": "python",
   "pygments_lexer": "ipython3",
   "version": "3.9.13"
  }
 },
 "nbformat": 4,
 "nbformat_minor": 5
}
